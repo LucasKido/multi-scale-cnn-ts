{
 "cells": [
  {
   "cell_type": "markdown",
   "id": "underlying-porcelain",
   "metadata": {},
   "source": [
    "<h1>CNN para Série Temporal</h1>\n",
    "\n",
    "<h2>Introdução</h2>\n",
    "\n",
    "<font size=4>Verificar a performance de redes neurais convolucionais para séries temporais, baseado no paper <a href=https://arxiv.org/pdf/1603.06995.pdf>Multi-Scale Convolutional Neural Networks for Time Series Classification</a> para entender o seu funcionamento para futuras aplicações.</font>\n",
    "\n",
    "<h2>Índice</h2>\n",
    "\n",
    "<font size=4>\n",
    "    <ol>\n",
    "        <li><a href=#CONF>Configurando as dependências</a></li>\n",
    "        <li><a href=#BUILD>Construindo a CNN</a></li>\n",
    "        <ol>\n",
    "            <li><a href=#INPUT>Camada de Entrada e Convolução Local</a></li>\n",
    "            <li><a href=#GLOBAL>Convolução Global</a></li>\n",
    "        </ol>\n",
    "        <li><a href=#SET>Formatando os dados</a></li>\n",
    "        <li><a href=#TRAIN>Treinando o modelo</a></li>\n",
    "        <li><a href=#VAL>Validando o modelo</a></li>\n",
    "    </ol>\n",
    "</font>\n",
    "\n",
    "<a name=CONF></a>\n",
    "<h2>Configurando as dependências</h2>\n",
    "\n",
    "<font size=4>Importando as bibliotecas neceessárias</font>"
   ]
  },
  {
   "cell_type": "code",
   "execution_count": 1,
   "id": "hydraulic-transaction",
   "metadata": {},
   "outputs": [],
   "source": [
    "import numpy as np\n",
    "import pandas as pd\n",
    "import matplotlib.pyplot as plt\n",
    "import seaborn as sns\n",
    "from datetime import timedelta\n",
    "import tensorflow as tf\n",
    "from tensorflow.keras import Input, Model\n",
    "from tensorflow.keras.layers import Conv1D, MaxPooling1D, Concatenate, Flatten, Dense\n",
    "from sklearn.metrics import mean_squared_error, mean_absolute_error\n",
    "import warnings\n",
    "\n",
    "warnings.filterwarnings('ignore')"
   ]
  },
  {
   "cell_type": "markdown",
   "id": "geographic-handy",
   "metadata": {},
   "source": [
    "<font size=4>Carregando os dados e verificando as primeiras linhas</font>"
   ]
  },
  {
   "cell_type": "code",
   "execution_count": 2,
   "id": "terminal-agent",
   "metadata": {},
   "outputs": [
    {
     "data": {
      "text/html": [
       "<div>\n",
       "<style scoped>\n",
       "    .dataframe tbody tr th:only-of-type {\n",
       "        vertical-align: middle;\n",
       "    }\n",
       "\n",
       "    .dataframe tbody tr th {\n",
       "        vertical-align: top;\n",
       "    }\n",
       "\n",
       "    .dataframe thead th {\n",
       "        text-align: right;\n",
       "    }\n",
       "</style>\n",
       "<table border=\"1\" class=\"dataframe\">\n",
       "  <thead>\n",
       "    <tr style=\"text-align: right;\">\n",
       "      <th></th>\n",
       "      <th>*kW_del</th>\n",
       "    </tr>\n",
       "    <tr>\n",
       "      <th>date</th>\n",
       "      <th></th>\n",
       "    </tr>\n",
       "  </thead>\n",
       "  <tbody>\n",
       "    <tr>\n",
       "      <th>2018-01-01 00:15:00</th>\n",
       "      <td>74803.2</td>\n",
       "    </tr>\n",
       "    <tr>\n",
       "      <th>2018-01-01 00:30:00</th>\n",
       "      <td>74918.4</td>\n",
       "    </tr>\n",
       "    <tr>\n",
       "      <th>2018-01-01 00:45:00</th>\n",
       "      <td>74918.4</td>\n",
       "    </tr>\n",
       "    <tr>\n",
       "      <th>2018-01-01 01:00:00</th>\n",
       "      <td>74841.6</td>\n",
       "    </tr>\n",
       "    <tr>\n",
       "      <th>2018-01-01 01:15:00</th>\n",
       "      <td>74227.2</td>\n",
       "    </tr>\n",
       "  </tbody>\n",
       "</table>\n",
       "</div>"
      ],
      "text/plain": [
       "                      *kW_del\n",
       "date                         \n",
       "2018-01-01 00:15:00   74803.2\n",
       "2018-01-01 00:30:00   74918.4\n",
       "2018-01-01 00:45:00   74918.4\n",
       "2018-01-01 01:00:00   74841.6\n",
       "2018-01-01 01:15:00   74227.2"
      ]
     },
     "execution_count": 2,
     "metadata": {},
     "output_type": "execute_result"
    }
   ],
   "source": [
    "data = pd.read_csv('./data/107_kw.csv', parse_dates=['date']).sort_values('date').set_index('date')\n",
    "data.head()"
   ]
  },
  {
   "cell_type": "markdown",
   "id": "humanitarian-granny",
   "metadata": {},
   "source": [
    "<font size=4>Verificando a quantidade de nulos ou se houve um perído onde não foi coletado algum dado</font>"
   ]
  },
  {
   "cell_type": "code",
   "execution_count": 3,
   "id": "recent-resolution",
   "metadata": {},
   "outputs": [
    {
     "name": "stdout",
     "output_type": "stream",
     "text": [
      "Quantidade de nulos: 0\n"
     ]
    }
   ],
   "source": [
    "print('Quantidade de nulos: {}'.format(data.isnull().sum().values[0]))"
   ]
  },
  {
   "cell_type": "code",
   "execution_count": 4,
   "id": "impressive-fellow",
   "metadata": {},
   "outputs": [
    {
     "name": "stdout",
     "output_type": "stream",
     "text": [
      "Quantidade de dias:\t35040\n",
      "Quantidade de amostras:\t35040\n"
     ]
    }
   ],
   "source": [
    "days_sample = pd.date_range(start='2018-01-01 00:15:00', end='2019-01-01', freq='15min').shape[0]\n",
    "print('Quantidade de dias:\\t{}\\nQuantidade de amostras:\\t{}'.format(days_sample, data.shape[0]))"
   ]
  },
  {
   "cell_type": "markdown",
   "id": "thirty-trailer",
   "metadata": {},
   "source": [
    "<font size=4>Vemos que não houve um período onde não foi coletado os dados</font>\n",
    "\n",
    "<a name=BUILD></a>\n",
    "<h2>Construindo a CNN</h2>\n",
    "\n",
    "<font size=4>\n",
    "A CNN tem 3 estágios: <i>transformação</i>, <i>convolução local</i> e <i>convolução global</i>. A tranformação será feita posteriormente com os dados, já que suas dimensões vão depender da camada de entrada da rede.<br>\n",
    "Primeiro vamos começar com a camada de entrada e a etapa da convolução local.\n",
    "</font>\n",
    "\n",
    "<a name=INPUT></a>\n",
    "<h3>Camada de Entrada e Convolução Local</h3>\n",
    "\n",
    "<font size=4>\n",
    "A CNN tem diversas entradas, que são: \n",
    "<ul>\n",
    "    <li>Um pedaço da série temporal original:</li>\n",
    "    <ul>\n",
    "        <li>3 dias ou 288 linhas</li>\n",
    "    </ul>\n",
    "    <li>Multi-escala, que são subamostragens da série original:</li>\n",
    "    <ul>\n",
    "        <li>2 dias ou 192 linhas</li>\n",
    "        <li>1 dia ou 96 linhas</li>\n",
    "        <li>12 horas ou 48 linhas</li>\n",
    "    </ul>\n",
    "    <li>Multifrequência, que são médias móveis:</li>\n",
    "    <ul>\n",
    "        <li>Média móvel n=3</li>\n",
    "        <li>Média móvel n=5</li>\n",
    "        <li>Média móvel n=7</li>\n",
    "    </ul>\n",
    "</ul>\n",
    "Como há entradas de diversas dimensões e após a convolução local as saídas são concatenadas, é necessário ajustar os hiperparâmetros da convolução e da maxpooling para que todos tenham a mesma dimensão, para isso há a seguinte forma para saber qual seria a saída.\n",
    "<br><br>\n",
    "\\begin{align}\n",
    "\\mathbf{output\\:shape} = \\frac{input\\:shape + kernel\\:size + stride\\:size}{pooling\\:size} \\\\\n",
    "\\end{align}\n",
    "</font>\n",
    "\n",
    "<font size=4>Original</font>"
   ]
  },
  {
   "cell_type": "code",
   "execution_count": 5,
   "id": "featured-insight",
   "metadata": {},
   "outputs": [],
   "source": [
    "# Original\n",
    "input1 = Input(shape=(288, 1))\n",
    "cnn_ori = Conv1D(filters=10, kernel_size=5, activation='relu')(input1)\n",
    "cnn_ori = MaxPooling1D(pool_size=12)(cnn_ori)"
   ]
  },
  {
   "cell_type": "markdown",
   "id": "valuable-parish",
   "metadata": {},
   "source": [
    "<font size=4>Multi-escala</font>"
   ]
  },
  {
   "cell_type": "code",
   "execution_count": 6,
   "id": "exciting-wallace",
   "metadata": {},
   "outputs": [],
   "source": [
    "# Downsampling 12h\n",
    "input2 = Input(shape=(48,1))\n",
    "cnn_ds12 = Conv1D(filters=10, kernel_size=3, activation='relu')(input2)\n",
    "cnn_ds12 = MaxPooling1D(pool_size=2)(cnn_ds12)\n",
    "\n",
    "# Downsampling 1d\n",
    "input3 = Input(shape=(96,1))\n",
    "cnn_ds1 = Conv1D(filters=10, kernel_size=5, activation='relu')(input3)\n",
    "cnn_ds1 = MaxPooling1D(pool_size=4)(cnn_ds1)\n",
    "\n",
    "# Downsampling 2d\n",
    "input4 = Input(shape=(192,1))\n",
    "cnn_ds2 = Conv1D(filters=10, kernel_size=5, activation='relu')(input4)\n",
    "cnn_ds2 = MaxPooling1D(pool_size=8)(cnn_ds2)"
   ]
  },
  {
   "cell_type": "markdown",
   "id": "closed-thong",
   "metadata": {},
   "source": [
    "<font size=4>Multifrequência</font>"
   ]
  },
  {
   "cell_type": "code",
   "execution_count": 7,
   "id": "described-symphony",
   "metadata": {},
   "outputs": [],
   "source": [
    "# Média Móvel 3\n",
    "input5 = Input(shape=(288,1))\n",
    "cnn_ra3 = Conv1D(filters=10, kernel_size=5, activation='relu')(input5)\n",
    "cnn_ra3 = MaxPooling1D(pool_size=12)(cnn_ra3)\n",
    "\n",
    "# Média Móvel 5\n",
    "input6 = Input(shape=(288,1))\n",
    "cnn_ra5 = Conv1D(filters=10, kernel_size=5, activation='relu')(input6)\n",
    "cnn_ra5 = MaxPooling1D(pool_size=12)(cnn_ra5)\n",
    "\n",
    "# Média Móvel 7\n",
    "input7 = Input(shape=(288,1))\n",
    "cnn_ra7 = Conv1D(filters=10, kernel_size=5, activation='relu')(input7)\n",
    "cnn_ra7 = MaxPooling1D(pool_size=12)(cnn_ra7)"
   ]
  },
  {
   "cell_type": "markdown",
   "id": "raising-adelaide",
   "metadata": {},
   "source": [
    "<a name=GLOBAL></a>\n",
    "<h3>Convolução Global</h3>\n",
    "\n",
    "<font size=4>Nessa etapas é concatenado as saídas da etapa de convolução local e feito uma convolução com todas essas saídas, seguido de uma camada densa.</font>"
   ]
  },
  {
   "cell_type": "code",
   "execution_count": 8,
   "id": "baking-project",
   "metadata": {},
   "outputs": [],
   "source": [
    "cnn_full = Concatenate(axis=-1)([cnn_ori, cnn_ds12, cnn_ds2, cnn_ds1, cnn_ra3, cnn_ra5, cnn_ra7])\n",
    "cnn_full = Conv1D(filters=10, kernel_size=3, activation='relu')(cnn_full)\n",
    "cnn_full = MaxPooling1D(pool_size=3)(cnn_full)\n",
    "cnn_full = Flatten()(cnn_full)\n",
    "cnn_full = Dense(20, activation='relu')(cnn_full)\n",
    "cnn_full = Dense(1)(cnn_full)\n",
    "model = Model(inputs=[input1, input2, input3, input4, input5, input6, input7],\n",
    "              outputs=cnn_full)\n",
    "model.compile(optimizer='adam', loss='mse')"
   ]
  },
  {
   "cell_type": "markdown",
   "id": "animated-sunday",
   "metadata": {},
   "source": [
    "<font size=4>Printando as camadas da rede</font>"
   ]
  },
  {
   "cell_type": "code",
   "execution_count": 9,
   "id": "extraordinary-syntax",
   "metadata": {},
   "outputs": [
    {
     "name": "stdout",
     "output_type": "stream",
     "text": [
      "Model: \"functional_1\"\n",
      "__________________________________________________________________________________________________\n",
      "Layer (type)                    Output Shape         Param #     Connected to                     \n",
      "==================================================================================================\n",
      "input_1 (InputLayer)            [(None, 288, 1)]     0                                            \n",
      "__________________________________________________________________________________________________\n",
      "input_2 (InputLayer)            [(None, 48, 1)]      0                                            \n",
      "__________________________________________________________________________________________________\n",
      "input_4 (InputLayer)            [(None, 192, 1)]     0                                            \n",
      "__________________________________________________________________________________________________\n",
      "input_3 (InputLayer)            [(None, 96, 1)]      0                                            \n",
      "__________________________________________________________________________________________________\n",
      "input_5 (InputLayer)            [(None, 288, 1)]     0                                            \n",
      "__________________________________________________________________________________________________\n",
      "input_6 (InputLayer)            [(None, 288, 1)]     0                                            \n",
      "__________________________________________________________________________________________________\n",
      "input_7 (InputLayer)            [(None, 288, 1)]     0                                            \n",
      "__________________________________________________________________________________________________\n",
      "conv1d (Conv1D)                 (None, 284, 10)      60          input_1[0][0]                    \n",
      "__________________________________________________________________________________________________\n",
      "conv1d_1 (Conv1D)               (None, 46, 10)       40          input_2[0][0]                    \n",
      "__________________________________________________________________________________________________\n",
      "conv1d_3 (Conv1D)               (None, 188, 10)      60          input_4[0][0]                    \n",
      "__________________________________________________________________________________________________\n",
      "conv1d_2 (Conv1D)               (None, 92, 10)       60          input_3[0][0]                    \n",
      "__________________________________________________________________________________________________\n",
      "conv1d_4 (Conv1D)               (None, 284, 10)      60          input_5[0][0]                    \n",
      "__________________________________________________________________________________________________\n",
      "conv1d_5 (Conv1D)               (None, 284, 10)      60          input_6[0][0]                    \n",
      "__________________________________________________________________________________________________\n",
      "conv1d_6 (Conv1D)               (None, 284, 10)      60          input_7[0][0]                    \n",
      "__________________________________________________________________________________________________\n",
      "max_pooling1d (MaxPooling1D)    (None, 23, 10)       0           conv1d[0][0]                     \n",
      "__________________________________________________________________________________________________\n",
      "max_pooling1d_1 (MaxPooling1D)  (None, 23, 10)       0           conv1d_1[0][0]                   \n",
      "__________________________________________________________________________________________________\n",
      "max_pooling1d_3 (MaxPooling1D)  (None, 23, 10)       0           conv1d_3[0][0]                   \n",
      "__________________________________________________________________________________________________\n",
      "max_pooling1d_2 (MaxPooling1D)  (None, 23, 10)       0           conv1d_2[0][0]                   \n",
      "__________________________________________________________________________________________________\n",
      "max_pooling1d_4 (MaxPooling1D)  (None, 23, 10)       0           conv1d_4[0][0]                   \n",
      "__________________________________________________________________________________________________\n",
      "max_pooling1d_5 (MaxPooling1D)  (None, 23, 10)       0           conv1d_5[0][0]                   \n",
      "__________________________________________________________________________________________________\n",
      "max_pooling1d_6 (MaxPooling1D)  (None, 23, 10)       0           conv1d_6[0][0]                   \n",
      "__________________________________________________________________________________________________\n",
      "concatenate (Concatenate)       (None, 23, 70)       0           max_pooling1d[0][0]              \n",
      "                                                                 max_pooling1d_1[0][0]            \n",
      "                                                                 max_pooling1d_3[0][0]            \n",
      "                                                                 max_pooling1d_2[0][0]            \n",
      "                                                                 max_pooling1d_4[0][0]            \n",
      "                                                                 max_pooling1d_5[0][0]            \n",
      "                                                                 max_pooling1d_6[0][0]            \n",
      "__________________________________________________________________________________________________\n",
      "conv1d_7 (Conv1D)               (None, 21, 10)       2110        concatenate[0][0]                \n",
      "__________________________________________________________________________________________________\n",
      "max_pooling1d_7 (MaxPooling1D)  (None, 7, 10)        0           conv1d_7[0][0]                   \n",
      "__________________________________________________________________________________________________\n",
      "flatten (Flatten)               (None, 70)           0           max_pooling1d_7[0][0]            \n",
      "__________________________________________________________________________________________________\n",
      "dense (Dense)                   (None, 20)           1420        flatten[0][0]                    \n",
      "__________________________________________________________________________________________________\n",
      "dense_1 (Dense)                 (None, 1)            21          dense[0][0]                      \n",
      "==================================================================================================\n",
      "Total params: 3,951\n",
      "Trainable params: 3,951\n",
      "Non-trainable params: 0\n",
      "__________________________________________________________________________________________________\n"
     ]
    }
   ],
   "source": [
    "model.summary()"
   ]
  },
  {
   "cell_type": "markdown",
   "id": "modular-birthday",
   "metadata": {},
   "source": [
    "<a name=SET></a>\n",
    "<h2>Formatando os dados</h2>\n",
    "\n",
    "<font size=4>Criando uma função para formatar as múltiplas entradas do rede neural</font>"
   ]
  },
  {
   "cell_type": "code",
   "execution_count": 10,
   "id": "ahead-heating",
   "metadata": {},
   "outputs": [],
   "source": [
    "def get_rows(dataframe):\n",
    "    \"\"\"Formata o dataset de acordo com cada entrada da rede neural e a variável target.\n",
    "    \"\"\"\n",
    "    y = dataframe.iloc[-1:].values[0]\n",
    "    # Original\n",
    "    original = dataframe.iloc[-289:-1].values\n",
    "    # Multi-escala\n",
    "    dsamp_2d = dataframe.iloc[-193:-1].values\n",
    "    dsamp_1d = dataframe.iloc[-97:-1].values\n",
    "    dsamp_12h = dataframe.iloc[-49:-1].values\n",
    "    #Multifrequência\n",
    "    rolavg_7 = dataframe.rolling(window=7).sum().shift().iloc[-289:-1].values\n",
    "    rolavg_5 = dataframe.rolling(window=5).sum().shift().iloc[-289:-1].values\n",
    "    rolavg_3 = dataframe.rolling(window=3).sum().shift().iloc[-289:-1].values\n",
    "    return original, dsamp_2d, dsamp_1d, dsamp_12h, rolavg_7, rolavg_5, rolavg_3, y"
   ]
  },
  {
   "cell_type": "markdown",
   "id": "hired-delicious",
   "metadata": {},
   "source": [
    "<font size=4>Formatando cada uma das entradas para alimentar o modelo</font>"
   ]
  },
  {
   "cell_type": "code",
   "execution_count": 11,
   "id": "ideal-conviction",
   "metadata": {},
   "outputs": [],
   "source": [
    "original, dsamp_2d, dsamp_1d, dsamp_12h, rolavg_7, rolavg_5, rolavg_3, y = [], [], [], [], [], [], [], []\n",
    "for i in range(385, data.shape[0]+1):\n",
    "    ori, ds2d, ds1d, ds12h, ra7, ra5, ra3, yt = get_rows(data.iloc[i-385:i])\n",
    "    # Original\n",
    "    original.append(ori)\n",
    "    # Multi-escala\n",
    "    dsamp_2d.append(ds2d)\n",
    "    dsamp_1d.append(ds1d)\n",
    "    dsamp_12h.append(ds12h)\n",
    "    # Multifrequência\n",
    "    rolavg_7.append(ra7)\n",
    "    rolavg_5.append(ra5)\n",
    "    rolavg_3.append(ra3)\n",
    "    y.append(yt)\n",
    "\n",
    "y = np.array(y)\n",
    "original = np.array(original)\n",
    "dsamp_12h = np.array(dsamp_12h)\n",
    "dsamp_1d = np.array(dsamp_1d)\n",
    "dsamp_2d = np.array(dsamp_2d)\n",
    "rolavg_3 = np.array(rolavg_3)\n",
    "rolavg_5 = np.array(rolavg_5)\n",
    "rolavg_7 = np.array(rolavg_7)"
   ]
  },
  {
   "cell_type": "markdown",
   "id": "aggregate-sherman",
   "metadata": {},
   "source": [
    "<font size=4>Dividindo em treino e teste</font>"
   ]
  },
  {
   "cell_type": "code",
   "execution_count": 12,
   "id": "drawn-statement",
   "metadata": {},
   "outputs": [],
   "source": [
    "idx = int(original.shape[0] * 0.4)\n",
    "# Y\n",
    "Y_train = y[:-idx]\n",
    "Y_test = y[-idx:]\n",
    "# Original\n",
    "ori_train = original[:-idx,:,:]\n",
    "ori_test = original[-idx:,:,:]\n",
    "# Multi-escala\n",
    "ds12h_train = dsamp_12h[:-idx,:,:]\n",
    "ds12h_test = dsamp_12h[-idx:,:,:]\n",
    "ds1d_train = dsamp_1d[:-idx,:,:]\n",
    "ds1d_test = dsamp_1d[-idx:,:,:]\n",
    "ds2d_train = dsamp_2d[:-idx,:,:]\n",
    "ds2d_test = dsamp_2d[-idx:,:,:]\n",
    "# Multifrequência\n",
    "ra3_train = rolavg_3[:-idx,:,:]\n",
    "ra3_test = rolavg_3[-idx:,:,:]\n",
    "ra5_train = rolavg_5[:-idx,:,:]\n",
    "ra5_test = rolavg_5[-idx:,:,:]\n",
    "ra7_train = rolavg_7[:-idx,:,:]\n",
    "ra7_test = rolavg_7[-idx:,:,:]"
   ]
  },
  {
   "cell_type": "markdown",
   "id": "signal-command",
   "metadata": {},
   "source": [
    "<a name=TRAIN></a>\n",
    "<h2>Treinando o modelo</h2>"
   ]
  },
  {
   "cell_type": "code",
   "execution_count": 13,
   "id": "leading-calvin",
   "metadata": {},
   "outputs": [
    {
     "data": {
      "text/plain": [
       "<tensorflow.python.keras.callbacks.History at 0x25a146ae9d0>"
      ]
     },
     "execution_count": 13,
     "metadata": {},
     "output_type": "execute_result"
    }
   ],
   "source": [
    "model.fit([ori_train, ds12h_train, ds1d_train, ds2d_train, ra3_train, ra5_train, ra7_train],\n",
    "          Y_train, epochs=500, verbose=0)"
   ]
  },
  {
   "cell_type": "markdown",
   "id": "corresponding-leisure",
   "metadata": {},
   "source": [
    "<a name=VAL></a>\n",
    "<h2>Validando o modelo</h2>\n",
    "\n",
    "<font size=4>Prevendo no dataset de teste para validar o modelo com dados que não foram vistos, usando a MAE (Mean Average Error) e MSE (Mean Squared Error).</font>"
   ]
  },
  {
   "cell_type": "code",
   "execution_count": 14,
   "id": "laden-width",
   "metadata": {},
   "outputs": [
    {
     "name": "stdout",
     "output_type": "stream",
     "text": [
      "405.55569486275425 284048.51380813675\n"
     ]
    }
   ],
   "source": [
    "y_pred = model.predict([ori_test, ds12h_test, ds1d_test, ds2d_test, ra3_test, ra5_test, ra7_test])\n",
    "mse = mean_squared_error(Y_test, y_pred)\n",
    "mae = mean_absolute_error(Y_test, y_pred)\n",
    "\n",
    "print(mae, mse)"
   ]
  },
  {
   "cell_type": "markdown",
   "id": "generic-pixel",
   "metadata": {},
   "source": [
    "<font size=4>Plotando as previsões do primeiro dia do dataset de teste</font>"
   ]
  },
  {
   "cell_type": "code",
   "execution_count": 24,
   "id": "overall-prime",
   "metadata": {},
   "outputs": [
    {
     "data": {
      "image/png": "[encoded data removed]",
      "text/plain": [
       "<Figure size 1080x576 with 1 Axes>"
      ]
     },
     "metadata": {
      "needs_background": "light"
     },
     "output_type": "display_data"
    }
   ],
   "source": [
    "test = data.iloc[-idx:]\n",
    "test.columns = ['ytrue']\n",
    "test['pred'] = y_pred\n",
    "\n",
    "fig, ax = plt.subplots(1, 1, figsize=(15, 8))\n",
    "sns.lineplot(x=test.iloc[37:133].index, y=test.iloc[37:133]['ytrue'], label='real', ax=ax)\n",
    "sns.lineplot(x=test.iloc[37:133].index, y=test.iloc[37:133]['pred'], label='pred', ax=ax)\n",
    "ax.set_title('Preço real e predito', fontsize=16);"
   ]
  },
  {
   "cell_type": "code",
   "execution_count": null,
   "id": "distant-neighborhood",
   "metadata": {},
   "outputs": [],
   "source": []
  },
  {
   "cell_type": "code",
   "execution_count": null,
   "id": "relative-blink",
   "metadata": {},
   "outputs": [],
   "source": []
  },
  {
   "cell_type": "markdown",
   "id": "ordered-shoulder",
   "metadata": {},
   "source": [
    "* Original\n",
    "* Downsampling\n",
    "    * 12 horas\n",
    "    * 2 dias\n",
    "    * 1 dia\n",
    "* Media movel\n",
    "    * 3\n",
    "    * 5"
   ]
  },
  {
   "cell_type": "code",
   "execution_count": 25,
   "id": "pretty-encoding",
   "metadata": {},
   "outputs": [],
   "source": [
    "cnn_1 = Concatenate(axis=-1)([cnn_ori, cnn_ds12, cnn_ds2, cnn_ds1, cnn_ra3, cnn_ra5])\n",
    "cnn_1 = Conv1D(filters=10, kernel_size=3, activation='relu')(cnn_1)\n",
    "cnn_1 = MaxPooling1D(pool_size=3)(cnn_1)\n",
    "cnn_1 = Flatten()(cnn_1)\n",
    "cnn_1 = Dense(20, activation='relu')(cnn_1)\n",
    "cnn_1 = Dense(1)(cnn_1)\n",
    "model1 = Model(inputs=[input1, input2, input3, input4, input5, input6],\n",
    "              outputs=cnn_1)\n",
    "model1.compile(optimizer='adam', loss='mse')"
   ]
  },
  {
   "cell_type": "code",
   "execution_count": 26,
   "id": "verbal-signal",
   "metadata": {},
   "outputs": [
    {
     "data": {
      "text/plain": [
       "<tensorflow.python.keras.callbacks.History at 0x29c38615640>"
      ]
     },
     "execution_count": 26,
     "metadata": {},
     "output_type": "execute_result"
    }
   ],
   "source": [
    "model1.fit([ori_train, ds12h_train, ds1d_train, ds2d_train, ra3_train, ra5_train],\n",
    "          Y_train, epochs=500, verbose=0)"
   ]
  },
  {
   "cell_type": "code",
   "execution_count": 41,
   "id": "indian-count",
   "metadata": {},
   "outputs": [
    {
     "name": "stdout",
     "output_type": "stream",
     "text": [
      "1302.0844704723345 1918663.4331902517\n"
     ]
    }
   ],
   "source": [
    "y_pred1 = model1.predict([ori_test, ds12h_test, ds1d_test, ds2d_test, ra3_test, ra5_test])\n",
    "mse1 = mean_squared_error(Y_test, y_pred1)\n",
    "mae1 = mean_absolute_error(Y_test, y_pred1)\n",
    "\n",
    "print(mae1, mse1)"
   ]
  },
  {
   "cell_type": "code",
   "execution_count": null,
   "id": "color-volunteer",
   "metadata": {},
   "outputs": [],
   "source": []
  },
  {
   "cell_type": "code",
   "execution_count": null,
   "id": "pleasant-viewer",
   "metadata": {},
   "outputs": [],
   "source": []
  },
  {
   "cell_type": "markdown",
   "id": "verified-solid",
   "metadata": {},
   "source": [
    "* Original\n",
    "* Downsampling\n",
    "    * 12 horas\n",
    "    * 1 dia\n",
    "* Media movel\n",
    "    * 3\n",
    "    * 5\n",
    "    * 7"
   ]
  },
  {
   "cell_type": "code",
   "execution_count": 43,
   "id": "perfect-expansion",
   "metadata": {},
   "outputs": [],
   "source": [
    "cnn_3 = Concatenate(axis=-1)([cnn_ori, cnn_ds12, cnn_ds1, cnn_ra3, cnn_ra5, cnn_ra7])\n",
    "cnn_3 = Conv1D(filters=10, kernel_size=3, activation='relu')(cnn_3)\n",
    "cnn_3 = MaxPooling1D(pool_size=3)(cnn_3)\n",
    "cnn_3 = Flatten()(cnn_3)\n",
    "cnn_3 = Dense(20, activation='relu')(cnn_3)\n",
    "cnn_3 = Dense(1)(cnn_3)\n",
    "model3 = Model(inputs=[input1, input2, input3, input5, input6, input7],\n",
    "              outputs=cnn_3)\n",
    "model3.compile(optimizer='adam', loss='mse')"
   ]
  },
  {
   "cell_type": "code",
   "execution_count": 44,
   "id": "linear-headquarters",
   "metadata": {},
   "outputs": [
    {
     "data": {
      "text/plain": [
       "<tensorflow.python.keras.callbacks.History at 0x29c2e060670>"
      ]
     },
     "execution_count": 44,
     "metadata": {},
     "output_type": "execute_result"
    }
   ],
   "source": [
    "model3.fit([ori_train, ds12h_train, ds1d_train, ra3_train, ra5_train, ra7_train],\n",
    "          Y_train, epochs=500, verbose=0)"
   ]
  },
  {
   "cell_type": "code",
   "execution_count": 45,
   "id": "steady-costs",
   "metadata": {},
   "outputs": [
    {
     "name": "stdout",
     "output_type": "stream",
     "text": [
      "433.1136400321022 341487.98344018764\n"
     ]
    }
   ],
   "source": [
    "y_pred3 = model3.predict([ori_test, ds12h_test, ds1d_test, ra3_test, ra5_test, ra7_test])\n",
    "mse3 = mean_squared_error(Y_test, y_pred3)\n",
    "mae3 = mean_absolute_error(Y_test, y_pred3)\n",
    "\n",
    "print(mae3, mse3)"
   ]
  },
  {
   "cell_type": "code",
   "execution_count": null,
   "id": "danish-arrangement",
   "metadata": {},
   "outputs": [],
   "source": []
  },
  {
   "cell_type": "code",
   "execution_count": null,
   "id": "emerging-dealer",
   "metadata": {},
   "outputs": [],
   "source": []
  },
  {
   "cell_type": "code",
   "execution_count": null,
   "id": "permanent-press",
   "metadata": {},
   "outputs": [],
   "source": []
  },
  {
   "cell_type": "markdown",
   "id": "abroad-championship",
   "metadata": {},
   "source": [
    "* Original\n",
    "* Downsampling\n",
    "    * 12 horas\n",
    "    * 1 dia\n",
    "* Media movel\n",
    "    * 3\n",
    "    * 5"
   ]
  },
  {
   "cell_type": "code",
   "execution_count": 37,
   "id": "norman-burton",
   "metadata": {},
   "outputs": [],
   "source": [
    "cnn_2 = Concatenate(axis=-1)([cnn_ori, cnn_ds12, cnn_ds1, cnn_ra3, cnn_ra5])\n",
    "cnn_2 = Conv1D(filters=10, kernel_size=3, activation='relu')(cnn_2)\n",
    "cnn_2 = MaxPooling1D(pool_size=3)(cnn_2)\n",
    "cnn_2 = Flatten()(cnn_2)\n",
    "cnn_2 = Dense(20, activation='relu')(cnn_2)\n",
    "cnn_2 = Dense(1)(cnn_2)\n",
    "model2 = Model(inputs=[input1, input2, input3, input5, input6],\n",
    "              outputs=cnn_2)\n",
    "model2.compile(optimizer='adam', loss='mse')"
   ]
  },
  {
   "cell_type": "code",
   "execution_count": 38,
   "id": "popular-protection",
   "metadata": {},
   "outputs": [
    {
     "data": {
      "text/plain": [
       "<tensorflow.python.keras.callbacks.History at 0x29c382982b0>"
      ]
     },
     "execution_count": 38,
     "metadata": {},
     "output_type": "execute_result"
    }
   ],
   "source": [
    "model2.fit([ori_train, ds12h_train, ds1d_train, ra3_train, ra5_train],\n",
    "          Y_train, epochs=500, verbose=0)"
   ]
  },
  {
   "cell_type": "code",
   "execution_count": 42,
   "id": "confident-sacramento",
   "metadata": {},
   "outputs": [
    {
     "name": "stdout",
     "output_type": "stream",
     "text": [
      "424.61727835088726 300730.3309027402\n"
     ]
    }
   ],
   "source": [
    "y_pred2 = model2.predict([ori_test, ds12h_test, ds1d_test, ra3_test, ra5_test])\n",
    "mse2 = mean_squared_error(Y_test, y_pred2)\n",
    "mae2 = mean_absolute_error(Y_test, y_pred2)\n",
    "\n",
    "print(mae2, mse2)"
   ]
  },
  {
   "cell_type": "code",
   "execution_count": null,
   "id": "opposite-skirt",
   "metadata": {},
   "outputs": [],
   "source": []
  },
  {
   "cell_type": "code",
   "execution_count": null,
   "id": "productive-oakland",
   "metadata": {},
   "outputs": [],
   "source": []
  },
  {
   "cell_type": "markdown",
   "id": "abstract-curtis",
   "metadata": {},
   "source": [
    "* Original\n",
    "* Downsampling\n",
    "    * 12 horas\n",
    "* Media movel\n",
    "    * 3\n",
    "    * 5"
   ]
  },
  {
   "cell_type": "code",
   "execution_count": 15,
   "id": "delayed-newfoundland",
   "metadata": {},
   "outputs": [],
   "source": [
    "cnn_4 = Concatenate(axis=-1)([cnn_ori, cnn_ds12, cnn_ra3, cnn_ra5])\n",
    "cnn_4 = Conv1D(filters=10, kernel_size=3, activation='relu')(cnn_4)\n",
    "cnn_4 = MaxPooling1D(pool_size=3)(cnn_4)\n",
    "cnn_4 = Flatten()(cnn_4)\n",
    "cnn_4 = Dense(20, activation='relu')(cnn_4)\n",
    "cnn_4 = Dense(1)(cnn_4)\n",
    "model4 = Model(inputs=[input1, input2, input5, input6],\n",
    "              outputs=cnn_4)\n",
    "model4.compile(optimizer='adam', loss='mse')"
   ]
  },
  {
   "cell_type": "code",
   "execution_count": 16,
   "id": "patent-cliff",
   "metadata": {},
   "outputs": [
    {
     "data": {
      "text/plain": [
       "<tensorflow.python.keras.callbacks.History at 0x25a25e6cf70>"
      ]
     },
     "execution_count": 16,
     "metadata": {},
     "output_type": "execute_result"
    }
   ],
   "source": [
    "model4.fit([ori_train, ds12h_train, ra3_train, ra5_train],\n",
    "          Y_train, epochs=500, verbose=0)"
   ]
  },
  {
   "cell_type": "code",
   "execution_count": 19,
   "id": "right-momentum",
   "metadata": {},
   "outputs": [
    {
     "name": "stdout",
     "output_type": "stream",
     "text": [
      "538.4993071210864 430560.09766241553\n"
     ]
    }
   ],
   "source": [
    "y_pred4= model4.predict([ori_test, ds12h_test, ra3_test, ra5_test])\n",
    "mse4 = mean_squared_error(Y_test, y_pred4)\n",
    "mae4 = mean_absolute_error(Y_test, y_pred4)\n",
    "\n",
    "print(mae4, mse4)"
   ]
  },
  {
   "cell_type": "code",
   "execution_count": null,
   "id": "aware-master",
   "metadata": {},
   "outputs": [],
   "source": []
  }
 ],
 "metadata": {
  "kernelspec": {
   "display_name": "Python 3",
   "language": "python",
   "name": "python3"
  },
  "language_info": {
   "codemirror_mode": {
    "name": "ipython",
    "version": 3
   },
   "file_extension": ".py",
   "mimetype": "text/x-python",
   "name": "python",
   "nbconvert_exporter": "python",
   "pygments_lexer": "ipython3",
   "version": "3.8.5"
  }
 },
 "nbformat": 4,
 "nbformat_minor": 5
}
